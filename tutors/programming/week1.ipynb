{
 "cells": [
  {
   "cell_type": "markdown",
   "metadata": {},
   "source": [
    "# Get MaxSubArray\n",
    "A = [1,2,3,-4,10,12,4,-1]\n",
    "O = [-4, 12] -> 16\n",
    "\n",
    "\n"
   ]
  },
  {
   "cell_type": "code",
   "execution_count": 5,
   "metadata": {},
   "outputs": [
    {
     "name": "stdout",
     "output_type": "stream",
     "text": [
      "Input:  [1, 2, 3, 4, 5, -1, 5, 6, 6, 7, 9, 2, 20]\n",
      "Output:  21\n"
     ]
    }
   ],
   "source": [
    "# Brute force solution\n",
    "\n",
    "import random\n",
    "def maxSubArrayBruteForce(A):\n",
    "    max_different = 0\n",
    "    i = 0\n",
    "    if len(A) <= 2:\n",
    "        return max(A)\n",
    "    for i in range(len(A)):\n",
    "        for j in range(i, len(A)):\n",
    "            max_different = max(max_different, A[j] - A[i])\n",
    "    return max_different\n",
    "\n",
    "A = [1,2,3,4,5,-1,5,6,6,7,9,2,20]\n",
    "print('Input: ', A)\n",
    "print('Output: ', maxSubArrayBruteForce(A))\n",
    "\n"
   ]
  },
  {
   "cell_type": "code",
   "execution_count": 16,
   "metadata": {},
   "outputs": [
    {
     "name": "stdout",
     "output_type": "stream",
     "text": [
      "Input:  [1, 19, 5, -4, 7, 18, 15, -10]\n",
      "[1, 19, 5, -4, 7, 18, 15, -10]\n",
      "[1, 19, 5, -4]\n",
      "[1, 19]\n",
      "[1]\n",
      "[]\n",
      "[]\n",
      "[]\n",
      "[-4]\n",
      "[]\n",
      "[]\n",
      "[18, 15, -10]\n",
      "[18]\n",
      "[]\n",
      "[]\n",
      "[-10]\n",
      "[]\n",
      "[]\n",
      "Output:  22\n"
     ]
    }
   ],
   "source": [
    "# Divide and conquer\n",
    "\n",
    "\n",
    "def maxElement(A, start, end):\n",
    "    maxEl = -float('inf')\n",
    "    for i in range(start, end):\n",
    "        maxEl = max(maxEl, A[i])\n",
    "    return maxEl\n",
    "\n",
    "def minElement(A, start, end):\n",
    "    minEl = float('inf')\n",
    "    for i in range(start, end):\n",
    "        minEl = min(minEl, A[i])\n",
    "    return minEl\n",
    "\n",
    "def maxSubArrayDivideConquer(A, start, end):\n",
    "    if start == end:\n",
    "        return 0\n",
    "    elif start == end + 1:\n",
    "        return max(A[end] - A[start], 0)\n",
    "    else:\n",
    "        m = (start + end) // 2\n",
    "        m1 = maxSubArrayDivideConquer(A, start, m)\n",
    "        m2 = maxSubArrayDivideConquer(A, m+1, end)\n",
    "        y1 = maxElement(A, m+1, end)\n",
    "        x1 = minElement(A, start, m)\n",
    "        return max(m1, m2, y1-x1)\n",
    "\n",
    "A = [ 1, 19, 5, -4, 7,  18, 15, -10 ]\n",
    "print('Input: ', A)\n",
    "print('Output: ', maxSubArrayDivideConquer(A, 0, len(A)))\n"
   ]
  },
  {
   "cell_type": "code",
   "execution_count": 12,
   "metadata": {},
   "outputs": [
    {
     "name": "stdout",
     "output_type": "stream",
     "text": [
      "True\n"
     ]
    }
   ],
   "source": [
    "\n",
    "def stringSubset(s: str, origin: str):\n",
    "    for j in range(len(s)):\n",
    "        for i in range(len(origin)):\n",
    "            if s[j] == origin[i]:\n",
    "                origin = origin[0: i:] + \" \" + origin[i+1::]\n",
    "                s = s[0:j:] + \" \" + s[j+1::]\n",
    "                if s.isspace():\n",
    "                    return True\n",
    "    return s.isspace()\n",
    "\n",
    "def wordSubsets(words1, words2):\n",
    "    rs = {}\n",
    "    for word2 in words2:\n",
    "        for word1 in words1:\n",
    "            if word1 not in rs:\n",
    "                rs[word1] = 0\n",
    "            if not stringSubset(word2, word1):\n",
    "                rs[word1] -= 1\n",
    "            else:\n",
    "                rs[word1] += 1\n",
    "\n",
    "    return [k for k, v in rs.items() if v == len(words2)]\n",
    "\n",
    "\n",
    "print(stringSubset('dcdbedvcdcsdaaassssd', 'dcdvbeecbdbabebeddecbdbabesssaaaaassssssss'))\n",
    "# testcases = (\n",
    "#     ([\"amazon\",\"apple\",\"facebook\",\"google\",\"leetcode\"], [\"e\",\"o\"]),\n",
    "#     ([\"amazon\",\"apple\",\"facebook\",\"google\",\"leetcode\"], [\"l\",\"e\"]),\n",
    "#     ([\"amazon\",\"apple\",\"facebook\",\"google\",\"leetcode\"], [\"lo\",\"eo\"]),\n",
    "#     ([\"amazon\",\"apple\",\"facebook\",\"google\",\"leetcode\"], [\"e\", \"oo\"]),\n",
    "#     ([\"dcbddbbbeb\",\"edeabaedbc\",\"beecbdbabe\",\"bacadddbda\",\"ecbdebddbb\",\"abeabbcaaa\",\n",
    "#     \"eabbdbadbb\",\"aacabeacde\",\"bcceeaccae\",\"ebbdebbcad\"] ,\n",
    "#     [\"add\",\"b\",\"ba\",\"ada\",\"dcd\"]),\n",
    "# )\n",
    "# for testcase in testcases:\n",
    "#     print(wordSubsets(*testcase))\n"
   ]
  },
  {
   "cell_type": "code",
   "execution_count": 53,
   "metadata": {},
   "outputs": [
    {
     "name": "stdout",
     "output_type": "stream",
     "text": [
      "['flower', 'flow', 'flight']\n",
      "flow\n"
     ]
    },
    {
     "ename": "IndexError",
     "evalue": "string index out of range",
     "output_type": "error",
     "traceback": [
      "\u001b[0;31m---------------------------------------------------------------------------\u001b[0m",
      "\u001b[0;31mIndexError\u001b[0m                                Traceback (most recent call last)",
      "\u001b[0;32m/var/folders/69/kp4h73j10q73yn4hnxkf926w0000gn/T/ipykernel_24232/876798994.py\u001b[0m in \u001b[0;36m<module>\u001b[0;34m\u001b[0m\n\u001b[1;32m     31\u001b[0m \u001b[0;32mfor\u001b[0m \u001b[0mtestcase\u001b[0m \u001b[0;32min\u001b[0m \u001b[0mtestcases\u001b[0m\u001b[0;34m:\u001b[0m\u001b[0;34m\u001b[0m\u001b[0;34m\u001b[0m\u001b[0m\n\u001b[1;32m     32\u001b[0m     \u001b[0mprint\u001b[0m\u001b[0;34m(\u001b[0m\u001b[0mtestcase\u001b[0m\u001b[0;34m)\u001b[0m\u001b[0;34m\u001b[0m\u001b[0;34m\u001b[0m\u001b[0m\n\u001b[0;32m---> 33\u001b[0;31m     \u001b[0mrs\u001b[0m \u001b[0;34m=\u001b[0m \u001b[0mSolution\u001b[0m\u001b[0;34m(\u001b[0m\u001b[0;34m)\u001b[0m\u001b[0;34m.\u001b[0m\u001b[0mlongestCommonPrefix\u001b[0m\u001b[0;34m(\u001b[0m\u001b[0mtestcase\u001b[0m\u001b[0;34m)\u001b[0m\u001b[0;34m\u001b[0m\u001b[0;34m\u001b[0m\u001b[0m\n\u001b[0m\u001b[1;32m     34\u001b[0m     \u001b[0mprint\u001b[0m\u001b[0;34m(\u001b[0m\u001b[0mrs\u001b[0m\u001b[0;34m)\u001b[0m\u001b[0;34m\u001b[0m\u001b[0;34m\u001b[0m\u001b[0m\n",
      "\u001b[0;32m/var/folders/69/kp4h73j10q73yn4hnxkf926w0000gn/T/ipykernel_24232/876798994.py\u001b[0m in \u001b[0;36mlongestCommonPrefix\u001b[0;34m(self, strs)\u001b[0m\n\u001b[1;32m     13\u001b[0m             \u001b[0;32mfor\u001b[0m \u001b[0mcol\u001b[0m \u001b[0;32min\u001b[0m \u001b[0mrange\u001b[0m\u001b[0;34m(\u001b[0m\u001b[0mstartCol\u001b[0m\u001b[0;34m,\u001b[0m \u001b[0mendCol\u001b[0m\u001b[0;34m)\u001b[0m\u001b[0;34m:\u001b[0m\u001b[0;34m\u001b[0m\u001b[0;34m\u001b[0m\u001b[0m\n\u001b[1;32m     14\u001b[0m                 \u001b[0;32mif\u001b[0m \u001b[0mlen\u001b[0m\u001b[0;34m(\u001b[0m\u001b[0mmin_str\u001b[0m\u001b[0;34m)\u001b[0m \u001b[0;34m==\u001b[0m \u001b[0mlen\u001b[0m\u001b[0;34m(\u001b[0m\u001b[0mrs\u001b[0m\u001b[0;34m)\u001b[0m\u001b[0;34m:\u001b[0m \u001b[0;32mbreak\u001b[0m\u001b[0;34m\u001b[0m\u001b[0;34m\u001b[0m\u001b[0m\n\u001b[0;32m---> 15\u001b[0;31m                 \u001b[0;32mif\u001b[0m \u001b[0mmin_str\u001b[0m\u001b[0;34m[\u001b[0m\u001b[0mcol\u001b[0m\u001b[0;34m]\u001b[0m \u001b[0;34m==\u001b[0m \u001b[0mstrs\u001b[0m\u001b[0;34m[\u001b[0m\u001b[0mstartRow\u001b[0m\u001b[0;34m]\u001b[0m\u001b[0;34m[\u001b[0m\u001b[0mcol\u001b[0m\u001b[0;34m]\u001b[0m\u001b[0;34m:\u001b[0m\u001b[0;34m\u001b[0m\u001b[0;34m\u001b[0m\u001b[0m\n\u001b[0m\u001b[1;32m     16\u001b[0m                     \u001b[0mrs\u001b[0m \u001b[0;34m+=\u001b[0m \u001b[0mstrs\u001b[0m\u001b[0;34m[\u001b[0m\u001b[0mstartRow\u001b[0m\u001b[0;34m]\u001b[0m\u001b[0;34m[\u001b[0m\u001b[0mcol\u001b[0m\u001b[0;34m]\u001b[0m\u001b[0;34m\u001b[0m\u001b[0;34m\u001b[0m\u001b[0m\n\u001b[1;32m     17\u001b[0m                 \u001b[0;32melse\u001b[0m\u001b[0;34m:\u001b[0m\u001b[0;34m\u001b[0m\u001b[0;34m\u001b[0m\u001b[0m\n",
      "\u001b[0;31mIndexError\u001b[0m: string index out of range"
     ]
    }
   ],
   "source": [
    "from typing import List\n",
    "\n",
    "class Solution:\n",
    "    def longestCommonPrefix(self, strs: List[str]) -> str:\n",
    "        if len(strs) == 1:\n",
    "            return strs[0]\n",
    "        min_str = strs[0]\n",
    "        rs = \"\"\n",
    "        startRow, endRow = 1, len(strs) - 1\n",
    "        startCol, endCol = 0, len(max(strs))\n",
    "        while startCol < endCol and startRow < endRow:\n",
    "            print(strs[startRow])\n",
    "            for col in range(startCol, endCol):\n",
    "                if len(min_str) == len(rs): break\n",
    "                if min_str[col] == strs[startRow][col]:\n",
    "                    rs += strs[startRow][col]\n",
    "                else:\n",
    "                    break\n",
    "            startCol += 1\n",
    "            startRow += 1\n",
    "            endCol -= 1\n",
    "            endRow -= 1\n",
    "        return rs\n",
    "\n",
    "testcases = (\n",
    "    [\"flower\",\"flow\",\"flight\"],\n",
    "    [\"dog\",\"racecar\",\"car\"],\n",
    "    [\"a\",\"b\"],\n",
    "    [\"flower\",\"flower\",\"flower\",\"flower\",\"flower\"]\n",
    ")\n",
    "for testcase in testcases:\n",
    "    print(testcase)\n",
    "    rs = Solution().longestCommonPrefix(testcase)\n",
    "    print(rs)\n"
   ]
  },
  {
   "cell_type": "markdown",
   "metadata": {},
   "source": [
    "You are implementing a program to use as your calendar. We can add a new event if adding the event will not cause a double booking.\n",
    "\n",
    "A double booking happens when two events have some non-empty intersection (i.e., some moment is common to both events.).\n",
    "\n",
    "The event can be represented as a pair of integers start and end that represents a booking on the half-open interval [start, end), the range of real numbers x such that start <= x < end.\n",
    "\n",
    "Implement the MyCalendar class:\n",
    "\n",
    "MyCalendar() Initializes the calendar object.\n",
    "boolean book(int start, int end) Returns true if the event can be added to the calendar successfully without causing a double booking. Otherwise, return false and do not add the event to the calendar.\n",
    "\n",
    "#segmentFree"
   ]
  },
  {
   "cell_type": "code",
   "execution_count": 8,
   "metadata": {},
   "outputs": [
    {
     "name": "stdout",
     "output_type": "stream",
     "text": [
      "[True, True, False, False, True, False, True, True, True, False]\n"
     ]
    }
   ],
   "source": [
    "class MyCalendar:\n",
    "    def __init__(self):\n",
    "        self.booked_list = []\n",
    "\n",
    "    # def get_booking(self, booked_list, l, r, start, end):\n",
    "    #     if l == r:\n",
    "    #         return True\n",
    "    #     mid = len(booked_list) // 2 \n",
    "            \n",
    "    #         if start in booked or end in booked:\n",
    "    #             return False\n",
    "    #         else:\n",
    "    #             self.booked_list.append((start, end))\n",
    "    #             return True\n",
    "    \n",
    "\n",
    "    def book(self, start: int, end: int) -> bool:\n",
    "        if not self.booked_list:\n",
    "            self.booked_list.append((start, end))\n",
    "            return True\n",
    "        check_booked = []\n",
    "        for book in self.booked_list: \n",
    "            startBooked, endBooked = book\n",
    "            if (start <= startBooked and end >= endBooked) or \\\n",
    "                ( startBooked < start and start < endBooked ) or (startBooked < end and end < endBooked ):\n",
    "                check_booked.append(False)\n",
    "            else:\n",
    "                check_booked.append(True)\n",
    "        if all(check_booked):\n",
    "            self.booked_list.append([start, end])\n",
    "            return True\n",
    "        return False\n",
    "\n",
    "class_testcases = [\"MyCalendar\",\"book\",\"book\",\"book\",\"book\",\"book\",\"book\",\"book\",\"book\",\"book\",\"book\"]\n",
    "params_testcases = [[],[47,50],[33,41],[39,45],[33,42],[25,32],[26,35],[19,25],[3,8],[8,13],[18,27]]\n",
    "\n",
    "calendar = MyCalendar()\n",
    "rs = []\n",
    "for param in params_testcases[1:]:\n",
    "    rs.append(calendar.book(*param))\n",
    "print(rs)\n"
   ]
  },
  {
   "cell_type": "code",
   "execution_count": 16,
   "metadata": {},
   "outputs": [
    {
     "name": "stdout",
     "output_type": "stream",
     "text": [
      "1 1 11\n",
      "2 1 6\n",
      "4 1 3\n",
      "8 1 2\n",
      "16 1 1\n"
     ]
    },
    {
     "ename": "IndexError",
     "evalue": "list assignment index out of range",
     "output_type": "error",
     "traceback": [
      "\u001b[0;31m---------------------------------------------------------------------------\u001b[0m",
      "\u001b[0;31mIndexError\u001b[0m                                Traceback (most recent call last)",
      "\u001b[0;32m/var/folders/69/kp4h73j10q73yn4hnxkf926w0000gn/T/ipykernel_92087/1502642937.py\u001b[0m in \u001b[0;36m<module>\u001b[0;34m\u001b[0m\n\u001b[1;32m     12\u001b[0m     \u001b[0;32mreturn\u001b[0m \u001b[0mTree\u001b[0m\u001b[0;34m\u001b[0m\u001b[0;34m\u001b[0m\u001b[0m\n\u001b[1;32m     13\u001b[0m \u001b[0;34m\u001b[0m\u001b[0m\n\u001b[0;32m---> 14\u001b[0;31m \u001b[0mTree\u001b[0m \u001b[0;34m=\u001b[0m \u001b[0mbuildSegmentFree\u001b[0m\u001b[0;34m(\u001b[0m\u001b[0mL\u001b[0m\u001b[0;34m,\u001b[0m \u001b[0;36m1\u001b[0m\u001b[0;34m,\u001b[0m \u001b[0;36m1\u001b[0m\u001b[0;34m,\u001b[0m \u001b[0mlen\u001b[0m\u001b[0;34m(\u001b[0m\u001b[0mL\u001b[0m\u001b[0;34m)\u001b[0m\u001b[0;34m)\u001b[0m\u001b[0;34m\u001b[0m\u001b[0;34m\u001b[0m\u001b[0m\n\u001b[0m\u001b[1;32m     15\u001b[0m \u001b[0mprint\u001b[0m\u001b[0;34m(\u001b[0m\u001b[0mTree\u001b[0m\u001b[0;34m)\u001b[0m\u001b[0;34m\u001b[0m\u001b[0;34m\u001b[0m\u001b[0m\n",
      "\u001b[0;32m/var/folders/69/kp4h73j10q73yn4hnxkf926w0000gn/T/ipykernel_92087/1502642937.py\u001b[0m in \u001b[0;36mbuildSegmentFree\u001b[0;34m(L, index, l, r)\u001b[0m\n\u001b[1;32m      7\u001b[0m         \u001b[0;32mreturn\u001b[0m\u001b[0;34m\u001b[0m\u001b[0;34m\u001b[0m\u001b[0m\n\u001b[1;32m      8\u001b[0m     \u001b[0mmid\u001b[0m \u001b[0;34m=\u001b[0m \u001b[0;34m(\u001b[0m\u001b[0ml\u001b[0m \u001b[0;34m+\u001b[0m \u001b[0mr\u001b[0m\u001b[0;34m)\u001b[0m \u001b[0;34m//\u001b[0m \u001b[0;36m2\u001b[0m\u001b[0;34m\u001b[0m\u001b[0;34m\u001b[0m\u001b[0m\n\u001b[0;32m----> 9\u001b[0;31m     \u001b[0mbuildSegmentFree\u001b[0m\u001b[0;34m(\u001b[0m\u001b[0mL\u001b[0m\u001b[0;34m,\u001b[0m \u001b[0;36m2\u001b[0m \u001b[0;34m*\u001b[0m \u001b[0mindex\u001b[0m\u001b[0;34m,\u001b[0m \u001b[0ml\u001b[0m\u001b[0;34m,\u001b[0m \u001b[0mmid\u001b[0m\u001b[0;34m)\u001b[0m\u001b[0;34m\u001b[0m\u001b[0;34m\u001b[0m\u001b[0m\n\u001b[0m\u001b[1;32m     10\u001b[0m     \u001b[0mbuildSegmentFree\u001b[0m\u001b[0;34m(\u001b[0m\u001b[0mL\u001b[0m\u001b[0;34m,\u001b[0m \u001b[0;36m2\u001b[0m\u001b[0;34m*\u001b[0m\u001b[0mindex\u001b[0m \u001b[0;34m+\u001b[0m \u001b[0;36m1\u001b[0m\u001b[0;34m,\u001b[0m \u001b[0mmid\u001b[0m\u001b[0;34m+\u001b[0m\u001b[0;36m1\u001b[0m\u001b[0;34m,\u001b[0m \u001b[0mr\u001b[0m\u001b[0;34m)\u001b[0m\u001b[0;34m\u001b[0m\u001b[0;34m\u001b[0m\u001b[0m\n\u001b[1;32m     11\u001b[0m     \u001b[0mTree\u001b[0m\u001b[0;34m[\u001b[0m\u001b[0mindex\u001b[0m\u001b[0;34m]\u001b[0m \u001b[0;34m=\u001b[0m \u001b[0mmin\u001b[0m\u001b[0;34m(\u001b[0m\u001b[0mL\u001b[0m\u001b[0;34m[\u001b[0m\u001b[0;36m2\u001b[0m \u001b[0;34m*\u001b[0m \u001b[0mindex\u001b[0m\u001b[0;34m]\u001b[0m\u001b[0;34m,\u001b[0m \u001b[0mL\u001b[0m\u001b[0;34m[\u001b[0m\u001b[0;36m2\u001b[0m \u001b[0;34m*\u001b[0m \u001b[0mindex\u001b[0m \u001b[0;34m+\u001b[0m \u001b[0;36m1\u001b[0m\u001b[0;34m]\u001b[0m\u001b[0;34m)\u001b[0m\u001b[0;34m\u001b[0m\u001b[0;34m\u001b[0m\u001b[0m\n",
      "\u001b[0;32m/var/folders/69/kp4h73j10q73yn4hnxkf926w0000gn/T/ipykernel_92087/1502642937.py\u001b[0m in \u001b[0;36mbuildSegmentFree\u001b[0;34m(L, index, l, r)\u001b[0m\n\u001b[1;32m      7\u001b[0m         \u001b[0;32mreturn\u001b[0m\u001b[0;34m\u001b[0m\u001b[0;34m\u001b[0m\u001b[0m\n\u001b[1;32m      8\u001b[0m     \u001b[0mmid\u001b[0m \u001b[0;34m=\u001b[0m \u001b[0;34m(\u001b[0m\u001b[0ml\u001b[0m \u001b[0;34m+\u001b[0m \u001b[0mr\u001b[0m\u001b[0;34m)\u001b[0m \u001b[0;34m//\u001b[0m \u001b[0;36m2\u001b[0m\u001b[0;34m\u001b[0m\u001b[0;34m\u001b[0m\u001b[0m\n\u001b[0;32m----> 9\u001b[0;31m     \u001b[0mbuildSegmentFree\u001b[0m\u001b[0;34m(\u001b[0m\u001b[0mL\u001b[0m\u001b[0;34m,\u001b[0m \u001b[0;36m2\u001b[0m \u001b[0;34m*\u001b[0m \u001b[0mindex\u001b[0m\u001b[0;34m,\u001b[0m \u001b[0ml\u001b[0m\u001b[0;34m,\u001b[0m \u001b[0mmid\u001b[0m\u001b[0;34m)\u001b[0m\u001b[0;34m\u001b[0m\u001b[0;34m\u001b[0m\u001b[0m\n\u001b[0m\u001b[1;32m     10\u001b[0m     \u001b[0mbuildSegmentFree\u001b[0m\u001b[0;34m(\u001b[0m\u001b[0mL\u001b[0m\u001b[0;34m,\u001b[0m \u001b[0;36m2\u001b[0m\u001b[0;34m*\u001b[0m\u001b[0mindex\u001b[0m \u001b[0;34m+\u001b[0m \u001b[0;36m1\u001b[0m\u001b[0;34m,\u001b[0m \u001b[0mmid\u001b[0m\u001b[0;34m+\u001b[0m\u001b[0;36m1\u001b[0m\u001b[0;34m,\u001b[0m \u001b[0mr\u001b[0m\u001b[0;34m)\u001b[0m\u001b[0;34m\u001b[0m\u001b[0;34m\u001b[0m\u001b[0m\n\u001b[1;32m     11\u001b[0m     \u001b[0mTree\u001b[0m\u001b[0;34m[\u001b[0m\u001b[0mindex\u001b[0m\u001b[0;34m]\u001b[0m \u001b[0;34m=\u001b[0m \u001b[0mmin\u001b[0m\u001b[0;34m(\u001b[0m\u001b[0mL\u001b[0m\u001b[0;34m[\u001b[0m\u001b[0;36m2\u001b[0m \u001b[0;34m*\u001b[0m \u001b[0mindex\u001b[0m\u001b[0;34m]\u001b[0m\u001b[0;34m,\u001b[0m \u001b[0mL\u001b[0m\u001b[0;34m[\u001b[0m\u001b[0;36m2\u001b[0m \u001b[0;34m*\u001b[0m \u001b[0mindex\u001b[0m \u001b[0;34m+\u001b[0m \u001b[0;36m1\u001b[0m\u001b[0;34m]\u001b[0m\u001b[0;34m)\u001b[0m\u001b[0;34m\u001b[0m\u001b[0;34m\u001b[0m\u001b[0m\n",
      "\u001b[0;32m/var/folders/69/kp4h73j10q73yn4hnxkf926w0000gn/T/ipykernel_92087/1502642937.py\u001b[0m in \u001b[0;36mbuildSegmentFree\u001b[0;34m(L, index, l, r)\u001b[0m\n\u001b[1;32m      7\u001b[0m         \u001b[0;32mreturn\u001b[0m\u001b[0;34m\u001b[0m\u001b[0;34m\u001b[0m\u001b[0m\n\u001b[1;32m      8\u001b[0m     \u001b[0mmid\u001b[0m \u001b[0;34m=\u001b[0m \u001b[0;34m(\u001b[0m\u001b[0ml\u001b[0m \u001b[0;34m+\u001b[0m \u001b[0mr\u001b[0m\u001b[0;34m)\u001b[0m \u001b[0;34m//\u001b[0m \u001b[0;36m2\u001b[0m\u001b[0;34m\u001b[0m\u001b[0;34m\u001b[0m\u001b[0m\n\u001b[0;32m----> 9\u001b[0;31m     \u001b[0mbuildSegmentFree\u001b[0m\u001b[0;34m(\u001b[0m\u001b[0mL\u001b[0m\u001b[0;34m,\u001b[0m \u001b[0;36m2\u001b[0m \u001b[0;34m*\u001b[0m \u001b[0mindex\u001b[0m\u001b[0;34m,\u001b[0m \u001b[0ml\u001b[0m\u001b[0;34m,\u001b[0m \u001b[0mmid\u001b[0m\u001b[0;34m)\u001b[0m\u001b[0;34m\u001b[0m\u001b[0;34m\u001b[0m\u001b[0m\n\u001b[0m\u001b[1;32m     10\u001b[0m     \u001b[0mbuildSegmentFree\u001b[0m\u001b[0;34m(\u001b[0m\u001b[0mL\u001b[0m\u001b[0;34m,\u001b[0m \u001b[0;36m2\u001b[0m\u001b[0;34m*\u001b[0m\u001b[0mindex\u001b[0m \u001b[0;34m+\u001b[0m \u001b[0;36m1\u001b[0m\u001b[0;34m,\u001b[0m \u001b[0mmid\u001b[0m\u001b[0;34m+\u001b[0m\u001b[0;36m1\u001b[0m\u001b[0;34m,\u001b[0m \u001b[0mr\u001b[0m\u001b[0;34m)\u001b[0m\u001b[0;34m\u001b[0m\u001b[0;34m\u001b[0m\u001b[0m\n\u001b[1;32m     11\u001b[0m     \u001b[0mTree\u001b[0m\u001b[0;34m[\u001b[0m\u001b[0mindex\u001b[0m\u001b[0;34m]\u001b[0m \u001b[0;34m=\u001b[0m \u001b[0mmin\u001b[0m\u001b[0;34m(\u001b[0m\u001b[0mL\u001b[0m\u001b[0;34m[\u001b[0m\u001b[0;36m2\u001b[0m \u001b[0;34m*\u001b[0m \u001b[0mindex\u001b[0m\u001b[0;34m]\u001b[0m\u001b[0;34m,\u001b[0m \u001b[0mL\u001b[0m\u001b[0;34m[\u001b[0m\u001b[0;36m2\u001b[0m \u001b[0;34m*\u001b[0m \u001b[0mindex\u001b[0m \u001b[0;34m+\u001b[0m \u001b[0;36m1\u001b[0m\u001b[0;34m]\u001b[0m\u001b[0;34m)\u001b[0m\u001b[0;34m\u001b[0m\u001b[0;34m\u001b[0m\u001b[0m\n",
      "\u001b[0;32m/var/folders/69/kp4h73j10q73yn4hnxkf926w0000gn/T/ipykernel_92087/1502642937.py\u001b[0m in \u001b[0;36mbuildSegmentFree\u001b[0;34m(L, index, l, r)\u001b[0m\n\u001b[1;32m      7\u001b[0m         \u001b[0;32mreturn\u001b[0m\u001b[0;34m\u001b[0m\u001b[0;34m\u001b[0m\u001b[0m\n\u001b[1;32m      8\u001b[0m     \u001b[0mmid\u001b[0m \u001b[0;34m=\u001b[0m \u001b[0;34m(\u001b[0m\u001b[0ml\u001b[0m \u001b[0;34m+\u001b[0m \u001b[0mr\u001b[0m\u001b[0;34m)\u001b[0m \u001b[0;34m//\u001b[0m \u001b[0;36m2\u001b[0m\u001b[0;34m\u001b[0m\u001b[0;34m\u001b[0m\u001b[0m\n\u001b[0;32m----> 9\u001b[0;31m     \u001b[0mbuildSegmentFree\u001b[0m\u001b[0;34m(\u001b[0m\u001b[0mL\u001b[0m\u001b[0;34m,\u001b[0m \u001b[0;36m2\u001b[0m \u001b[0;34m*\u001b[0m \u001b[0mindex\u001b[0m\u001b[0;34m,\u001b[0m \u001b[0ml\u001b[0m\u001b[0;34m,\u001b[0m \u001b[0mmid\u001b[0m\u001b[0;34m)\u001b[0m\u001b[0;34m\u001b[0m\u001b[0;34m\u001b[0m\u001b[0m\n\u001b[0m\u001b[1;32m     10\u001b[0m     \u001b[0mbuildSegmentFree\u001b[0m\u001b[0;34m(\u001b[0m\u001b[0mL\u001b[0m\u001b[0;34m,\u001b[0m \u001b[0;36m2\u001b[0m\u001b[0;34m*\u001b[0m\u001b[0mindex\u001b[0m \u001b[0;34m+\u001b[0m \u001b[0;36m1\u001b[0m\u001b[0;34m,\u001b[0m \u001b[0mmid\u001b[0m\u001b[0;34m+\u001b[0m\u001b[0;36m1\u001b[0m\u001b[0;34m,\u001b[0m \u001b[0mr\u001b[0m\u001b[0;34m)\u001b[0m\u001b[0;34m\u001b[0m\u001b[0;34m\u001b[0m\u001b[0m\n\u001b[1;32m     11\u001b[0m     \u001b[0mTree\u001b[0m\u001b[0;34m[\u001b[0m\u001b[0mindex\u001b[0m\u001b[0;34m]\u001b[0m \u001b[0;34m=\u001b[0m \u001b[0mmin\u001b[0m\u001b[0;34m(\u001b[0m\u001b[0mL\u001b[0m\u001b[0;34m[\u001b[0m\u001b[0;36m2\u001b[0m \u001b[0;34m*\u001b[0m \u001b[0mindex\u001b[0m\u001b[0;34m]\u001b[0m\u001b[0;34m,\u001b[0m \u001b[0mL\u001b[0m\u001b[0;34m[\u001b[0m\u001b[0;36m2\u001b[0m \u001b[0;34m*\u001b[0m \u001b[0mindex\u001b[0m \u001b[0;34m+\u001b[0m \u001b[0;36m1\u001b[0m\u001b[0;34m]\u001b[0m\u001b[0;34m)\u001b[0m\u001b[0;34m\u001b[0m\u001b[0;34m\u001b[0m\u001b[0m\n",
      "\u001b[0;32m/var/folders/69/kp4h73j10q73yn4hnxkf926w0000gn/T/ipykernel_92087/1502642937.py\u001b[0m in \u001b[0;36mbuildSegmentFree\u001b[0;34m(L, index, l, r)\u001b[0m\n\u001b[1;32m      4\u001b[0m     \u001b[0mprint\u001b[0m\u001b[0;34m(\u001b[0m\u001b[0mindex\u001b[0m\u001b[0;34m,\u001b[0m \u001b[0ml\u001b[0m\u001b[0;34m,\u001b[0m \u001b[0mr\u001b[0m\u001b[0;34m)\u001b[0m\u001b[0;34m\u001b[0m\u001b[0;34m\u001b[0m\u001b[0m\n\u001b[1;32m      5\u001b[0m     \u001b[0;32mif\u001b[0m \u001b[0ml\u001b[0m \u001b[0;34m==\u001b[0m \u001b[0mr\u001b[0m\u001b[0;34m:\u001b[0m\u001b[0;34m\u001b[0m\u001b[0;34m\u001b[0m\u001b[0m\n\u001b[0;32m----> 6\u001b[0;31m         \u001b[0mTree\u001b[0m\u001b[0;34m[\u001b[0m\u001b[0mindex\u001b[0m\u001b[0;34m]\u001b[0m \u001b[0;34m=\u001b[0m \u001b[0mL\u001b[0m\u001b[0;34m[\u001b[0m\u001b[0ml\u001b[0m\u001b[0;34m]\u001b[0m\u001b[0;34m\u001b[0m\u001b[0;34m\u001b[0m\u001b[0m\n\u001b[0m\u001b[1;32m      7\u001b[0m         \u001b[0;32mreturn\u001b[0m\u001b[0;34m\u001b[0m\u001b[0;34m\u001b[0m\u001b[0m\n\u001b[1;32m      8\u001b[0m     \u001b[0mmid\u001b[0m \u001b[0;34m=\u001b[0m \u001b[0;34m(\u001b[0m\u001b[0ml\u001b[0m \u001b[0;34m+\u001b[0m \u001b[0mr\u001b[0m\u001b[0;34m)\u001b[0m \u001b[0;34m//\u001b[0m \u001b[0;36m2\u001b[0m\u001b[0;34m\u001b[0m\u001b[0;34m\u001b[0m\u001b[0m\n",
      "\u001b[0;31mIndexError\u001b[0m: list assignment index out of range"
     ]
    }
   ],
   "source": [
    "L = [\"\", [47,50],[33,41],[39,45],[33,42],[25,32],[26,35],[19,25],[3,8],[8,13],[18,27]]\n",
    "def buildSegmentFree(L, index, l, r):\n",
    "    Tree = []\n",
    "    print(index, l, r)\n",
    "    if l == r:\n",
    "        Tree[index] = L[l]\n",
    "        return\n",
    "    mid = (l + r) // 2\n",
    "    buildSegmentFree(L, 2 * index, l, mid)\n",
    "    buildSegmentFree(L, 2*index + 1, mid+1, r)\n",
    "    Tree[index] = min(L[2 * index], L[2 * index + 1])\n",
    "    return Tree\n",
    "\n",
    "Tree = buildSegmentFree(L, 1, 1, len(L))\n",
    "print(Tree)\n"
   ]
  },
  {
   "cell_type": "code",
   "execution_count": 23,
   "metadata": {},
   "outputs": [
    {
     "name": "stdout",
     "output_type": "stream",
     "text": [
      "3\n",
      "58\n",
      "1994\n"
     ]
    }
   ],
   "source": [
    "class Solution:\n",
    "    def romanToInt(self, s: str) -> int:\n",
    "        mapping = {\n",
    "            'M': 1000,\n",
    "            'D': 500,\n",
    "            'C': 100,\n",
    "            'L': 50,\n",
    "            'X': 10,\n",
    "            'V': 5,\n",
    "            'I': 1\n",
    "        }\n",
    "        rs = 0\n",
    "        for i in range(0, len(s)-1):\n",
    "            if mapping[s[i]] >= mapping[s[i+1]]:\n",
    "                rs += mapping[s[i]]\n",
    "            else:\n",
    "                rs -= mapping[s[i]]\n",
    "        rs += mapping[s[-1]]\n",
    "        return rs\n",
    "testcases = [\n",
    "    \"III\",\n",
    "    \"LVIII\",\n",
    "    \"MCMXCIV\"\n",
    "]\n",
    "for testcase in testcases:\n",
    "    print(Solution().romanToInt(testcase))\n"
   ]
  }
 ],
 "metadata": {
  "kernelspec": {
   "display_name": "Python 3.8.12 64-bit ('miniforge3')",
   "language": "python",
   "name": "python3"
  },
  "language_info": {
   "codemirror_mode": {
    "name": "ipython",
    "version": 3
   },
   "file_extension": ".py",
   "mimetype": "text/x-python",
   "name": "python",
   "nbconvert_exporter": "python",
   "pygments_lexer": "ipython3",
   "version": "3.8.12"
  },
  "orig_nbformat": 4,
  "vscode": {
   "interpreter": {
    "hash": "d8343964afbd5afee3295e56415300e9bbf8d274f3c48eb0c385279c33774767"
   }
  }
 },
 "nbformat": 4,
 "nbformat_minor": 2
}
